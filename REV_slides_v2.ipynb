{
 "cells": [
  {
   "cell_type": "raw",
   "metadata": {
    "slideshow": {
     "slide_type": "skip"
    }
   },
   "source": [
    "<style type=\"text/css\">\n",
    ".input, .output_prompt {\n",
    "display:none !important;\n",
    "}\n",
    "</style>"
   ]
  },
  {
   "cell_type": "markdown",
   "metadata": {
    "slideshow": {
     "slide_type": "slide"
    }
   },
   "source": [
    "#<div align=\"center\">Reservoir Evaluation and Visualization (REV) Tool</div>\n",
    "##<div align=\"center\">Seth King</div>\n",
    "![nrap](nrap_small.png)"
   ]
  },
  {
   "cell_type": "markdown",
   "metadata": {
    "slideshow": {
     "slide_type": "slide"
    }
   },
   "source": [
    "#<div align='center'>What do we mean by reservoir evaluation?</div>\n",
    "+ Extract metrics of reservoir performance as it relates to risk.\n",
    "  + Differental pressure plume size.\n",
    "  + Saturation plume size.\n",
    "  + Pressure at various points in the reservoir\n"
   ]
  },
  {
   "cell_type": "markdown",
   "metadata": {
    "slideshow": {
     "slide_type": "slide"
    }
   },
   "source": [
    "##<div align='center'>What does the REV tool do?</div>\n",
    "Takes in pressure and saturation output from reservoir simulations and returns these metrics"
   ]
  },
  {
   "cell_type": "markdown",
   "metadata": {
    "slideshow": {
     "slide_type": "fragment"
    }
   },
   "source": [
    "![plume size animation](plots_2.gif)"
   ]
  },
  {
   "cell_type": "markdown",
   "metadata": {
    "slideshow": {
     "slide_type": "slide"
    }
   },
   "source": [
    "#<div align='center'>REV tool inputs</div>\n",
    "+ Pressure and saturation data from reservoir simulator (along with grid info)\n",
    "+ Differential pressure and saturation threshold values from plume size\n",
    "+ Grid block numbers for pressure point extraction"
   ]
  },
  {
   "cell_type": "markdown",
   "metadata": {
    "slideshow": {
     "slide_type": "slide"
    }
   },
   "source": [
    "#<div align='center'>Using the tool!</div>\n",
    "![main_window](Main_window.png)"
   ]
  },
  {
   "cell_type": "markdown",
   "metadata": {
    "slideshow": {
     "slide_type": "slide"
    }
   },
   "source": [
    "#<div align='center'>Input/Output specifications</div>\n",
    "![input/output file specification](inputs_io.png)"
   ]
  },
  {
   "cell_type": "markdown",
   "metadata": {
    "slideshow": {
     "slide_type": "slide"
    }
   },
   "source": [
    "#<div align='center'>Threshold Parameters</div>\n",
    "![Threshold Parameter Specifications](inputs_tp.png)"
   ]
  },
  {
   "cell_type": "markdown",
   "metadata": {
    "slideshow": {
     "slide_type": "slide"
    }
   },
   "source": [
    "#<div align='center'>Use Case</div>\n",
    "Unbound sandstone:  Regional Dip\n",
    "+ LBNL Team (Zhang et al.) simulated using TOUGH2 and TP3D\n",
    "+ General unstructured, dipping sandstone reservoir\n",
    "+ Runs varying specific parameters\n",
    "\n",
    "![reservoir image](LBL_reservoir.png)"
   ]
  },
  {
   "cell_type": "markdown",
   "metadata": {
    "slideshow": {
     "slide_type": "fragment"
    }
   },
   "source": [
    "```\n",
    "Scenario     dip\n",
    "number (#)  degree     k_hor     k_ver     Slr        Sgr        comp       rate                 por     yr_inj\n",
    "19            1       1.e-13     1.e-14    0.3        0.2       1.5e-9    0.037174434(1MT/yr)    0.2     30\n",
    "```"
   ]
  },
  {
   "cell_type": "code",
   "execution_count": null,
   "metadata": {
    "collapsed": true,
    "slideshow": {
     "slide_type": "slide"
    }
   },
   "outputs": [],
   "source": [
    "#<div align='center'>Visual Output</div>\n",
    "![Pressure Plume Plot](pressure_plume.png)"
   ]
  }
 ],
 "metadata": {
  "celltoolbar": "Slideshow",
  "kernelspec": {
   "display_name": "Python 2",
   "language": "python",
   "name": "python2"
  },
  "language_info": {
   "codemirror_mode": {
    "name": "ipython",
    "version": 2
   },
   "file_extension": ".py",
   "mimetype": "text/x-python",
   "name": "python",
   "nbconvert_exporter": "python",
   "pygments_lexer": "ipython2",
   "version": "2.7.8"
  }
 },
 "nbformat": 4,
 "nbformat_minor": 0
}
